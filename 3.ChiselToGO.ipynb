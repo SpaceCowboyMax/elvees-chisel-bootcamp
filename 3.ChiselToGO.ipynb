{
 "cells": [
  {
   "cell_type": "markdown",
   "metadata": {},
   "source": [
    "# Chisel\n",
    "\n",
    "![chisel_logo](pics/chisel_logo.svg) ![firrtl_logo](pics/firrtl_logo.svg) \n",
    "\n",
    "Chisel, как представляют его создатели - язык описаня цифровой апаратуры, который облегчает создание продвинутых генерируемых компонентов и их повторное использование при разработке rtl для asic и fpga. Chisel - scala DSL, по сути же является библиотекой scala с api в виде классов и singleton объектов с вышеописанными целями.\n",
    "\n",
    "#### `*.scala (chisel)-> chirrtl (firrtl)-> firrtlhight, mid, low (firrtl)-> .v`\n",
    "\n",
    "## Типы данных\n",
    "\n",
    "![chisel_logo](pics/type_hierarchy.svg)"
   ]
  },
  {
   "cell_type": "code",
   "execution_count": null,
   "metadata": {},
   "outputs": [],
   "source": [
    "val path = System.getProperty(\"user.dir\") + \"/source/load-ivy.sc\"\n",
    "interp.load.module(ammonite.ops.Path(java.nio.file.FileSystems.getDefault().getPath(path)))"
   ]
  },
  {
   "cell_type": "code",
   "execution_count": null,
   "metadata": {},
   "outputs": [],
   "source": [
    "import chisel3._\n",
    "import chisel3.util._\n",
    "import chisel3.experimental._"
   ]
  },
  {
   "cell_type": "markdown",
   "metadata": {},
   "source": [
    "### Базовые типы"
   ]
  },
  {
   "cell_type": "code",
   "execution_count": null,
   "metadata": {},
   "outputs": [],
   "source": [
    "1.U\n",
    "0xF.U\n",
    "\n",
    "\"hAAA\".U\n",
    "\"o12\".U\n",
    "\"b1010\".U\n",
    "\n",
    "5.S\n",
    "-8.S\n",
    "\n",
    "5.U\n",
    "\n",
    "8.U(4.W)\n",
    "\n",
    "-152.S(32.W)\n",
    "\n",
    "true.B\n",
    "false.B\n",
    "\n",
    "22.7.F(16.BP)"
   ]
  },
  {
   "cell_type": "markdown",
   "metadata": {},
   "source": [
    "### Аггрегатные типы\n",
    "\n",
    "`Vec` и `Bundle` - сами по себе не являются полноценными типами данных, но позволяют пользователю объединять несколько типов."
   ]
  },
  {
   "cell_type": "code",
   "execution_count": null,
   "metadata": {},
   "outputs": [],
   "source": [
    "val vec = Vec(3, UInt(32.W))"
   ]
  },
  {
   "cell_type": "code",
   "execution_count": null,
   "metadata": {},
   "outputs": [],
   "source": [
    "class MyBundle extends Bundle {\n",
    "    val uint = UInt(32.W)\n",
    "    val bool = Bool()\n",
    "}\n",
    "val bundle = new MyBundle\n",
    "bundle.uint\n",
    "bundle.bool"
   ]
  },
  {
   "cell_type": "code",
   "execution_count": null,
   "metadata": {},
   "outputs": [],
   "source": [
    "class NestedBundle extends Bundle {\n",
    "  val bundle = new MyBundle\n",
    "  val vec = Vec(3, UInt(32.W))\n",
    "    \n",
    "  val bool = Bool()\n",
    "}\n",
    "\n",
    "val nested = new NestedBundle\n",
    "\n",
    "nested.bundle.uint\n",
    "nested.bundle.bool\n",
    "nested.vec\n",
    "nested.bool"
   ]
  },
  {
   "cell_type": "code",
   "execution_count": null,
   "metadata": {},
   "outputs": [],
   "source": [
    "val mixed = util.MixedVec(UInt(3.W), UInt(10.W), Bool())\n",
    "\n",
    "mixed(0)\n",
    "mixed(1)\n",
    "mixed(2)"
   ]
  },
  {
   "cell_type": "markdown",
   "metadata": {},
   "source": [
    "** Используйте `Vec` только для портов или при необходимости динамического hardware доступа к массиву, для остального лучше использовать коллекции скала."
   ]
  },
  {
   "cell_type": "markdown",
   "metadata": {},
   "source": [
    "## Hardware wires, regs\n",
    "\n",
    "Чизел четко, но не всегда явно разделят типы данных на абстрактные и hardware. Абстрактные типы служат для определения hardware сущностей.\n",
    "\n",
    "![hardwareTypes](pics/hardwareType.svg)"
   ]
  },
  {
   "cell_type": "code",
   "execution_count": null,
   "metadata": {},
   "outputs": [],
   "source": [
    "val dataType1 = UInt(32.W)\n",
    "val dataType2 = UInt(32.W)"
   ]
  },
  {
   "cell_type": "code",
   "execution_count": null,
   "metadata": {},
   "outputs": [],
   "source": [
    "val wire = Wire(UInt(32.W))"
   ]
  },
  {
   "cell_type": "code",
   "execution_count": null,
   "metadata": {},
   "outputs": [],
   "source": [
    "val reg = Reg(UInt(32.W))"
   ]
  },
  {
   "cell_type": "code",
   "execution_count": null,
   "metadata": {},
   "outputs": [],
   "source": [
    "val operation = dataType1 + dataType2"
   ]
  },
  {
   "cell_type": "markdown",
   "metadata": {},
   "source": [
    "Нельзя создавать hardware объекты вне модуля. Типы данных сами по себе являются классами, но без обертки в hardware не будут влиять на verilog. Все hardware объекты являются объектами того же класса с помощью которых были созданы, магия происходит в коробке."
   ]
  },
  {
   "cell_type": "markdown",
   "metadata": {},
   "source": [
    "## Module, IO порты\n",
    "\n",
    "Входной точкой chisel компилятора как правило служит метод объекта\n",
    "\n",
    "`Driver.execute(args: Array[String], dut: () => RawModule)`\n",
    "\n",
    "`args` - параметры компиляции, можно посмотреть полный список параметров тут https://github.com/freechipsproject/chisel3/wiki/Running-Stuff#what-are-all-the-options\n",
    "\n",
    "часто используемый `--target-dir` задает путь для выходных `.fir` и `.v` файлов\n",
    "\n",
    "`dut` - функция которая должна вернуть модуль отнаследованый как минимум от класса `RawModule`\n",
    "\n",
    "Существует несколько типов модулей в chisel3 от которых можно наследоваться для имплементации модулей\n",
    "\n",
    "- `chisel3.Module` он же `chisel3.internal.LegacyModule` - все порты должны быть описаны внутри io, имеет встроенный `clock` и `reset`, также имеется особености при использовании\n",
    "- `chisel3.MultiIOModule` - порты не ограничены одним io, имеет встроенный `clock` и `reset`\n",
    "- `chisel3.RawModule` - порты не ограничены одним io, НЕ имеет встроенного `clock` и `reset`\n",
    "- `chisel3.BalckBox` - блэкбокс, об этом чуть позже\n",
    "\n",
    "Рекомендация - использовать либо `MultiIOModule` или `RawModule`, рано или поздно `LegacyModule` должен перейти в статус deprecated\n",
    "\n",
    "### IO\n",
    "\n",
    "- Каждый порт внутри модуля оборачивается в `IO()`\n",
    "- Все что обарачивается в `IO()` должно иметь направление `Input()`, `Output()` или `Analog()`\n",
    "- `Bundle` может быть портом - наиболее удобный и частоиспользуемый вариант, в этом случае у каждого элемента должно быть указано направление или целиком у всего `Bundle`\n",
    "\n",
    "\n",
    "### Мы готовы написать наш первый модуль (почти)"
   ]
  },
  {
   "cell_type": "code",
   "execution_count": null,
   "metadata": {},
   "outputs": [],
   "source": [
    "class Invert32 extends RawModule {\n",
    "  val in = IO(\n",
    "    Input(UInt(32.W))\n",
    "  )\n",
    "\n",
    "  val out = IO(\n",
    "    Output(UInt(32.W))\n",
    "  )\n",
    "\n",
    "  out := ~in\n",
    "}\n",
    "\n",
    "verilogPrint(new Invert32)\n",
    "visualize(() => new Invert32)"
   ]
  },
  {
   "cell_type": "markdown",
   "metadata": {},
   "source": [
    "## Комбинационная и не очень логика\n",
    "\n",
    "Тут все просто и очень похоже на концструкции verilog\n",
    "\n",
    "### Встроенные операции\n",
    "\n",
    "их полный список можно найти тут https://github.com/freechipsproject/chisel3/wiki/Builtin-Operators"
   ]
  },
  {
   "cell_type": "code",
   "execution_count": null,
   "metadata": {},
   "outputs": [],
   "source": [
    "class CombLogic extends RawModule {\n",
    "  val io = IO(new Bundle {\n",
    "    val a = Input(UInt(4.W))\n",
    "    val b = Input(UInt(4.W))\n",
    "\n",
    "    val out = Output(UInt(4.W))\n",
    "  })\n",
    "\n",
    "  io.out := ((io.a & io.b) | (io.a ^ ~io.b))  \n",
    "}\n",
    "\n",
    "verilogPrint(new CombLogic)\n",
    "visualize(() => new CombLogic)"
   ]
  },
  {
   "cell_type": "code",
   "execution_count": null,
   "metadata": {},
   "outputs": [],
   "source": [
    "class CombLogicIf extends RawModule {\n",
    "  val io = IO(new Bundle {\n",
    "    val ready = Input(Bool())\n",
    "\n",
    "    val in = Input(UInt(32.W))\n",
    "\n",
    "    val out = Output(UInt(32.W))\n",
    "  })\n",
    "\n",
    "  when(io.ready) {\n",
    "    io.out := io.in + 255.U\n",
    "  }.otherwise {\n",
    "    io.out := io.in\n",
    "  }\n",
    "}\n",
    "\n",
    "verilogPrint(new CombLogicIf)\n",
    "visualize(() => new CombLogicIf)"
   ]
  },
  {
   "cell_type": "markdown",
   "metadata": {},
   "source": [
    "### Mux\n",
    "\n",
    "При описании комбинационной логики вместо `when(){}.elsewhen(){}.otherwise` рекомендую использовать встроенную функциональную абстрацкию `Mux()` и его варианты `MuxCase` и `MuxLookUp`(о них чуть позже), таким образом можно четко разделять комбинационную и последовательную логику в вашем дизайне."
   ]
  },
  {
   "cell_type": "code",
   "execution_count": null,
   "metadata": {},
   "outputs": [],
   "source": [
    "class CombLogicIfWihtMux extends RawModule {\n",
    "  val io = IO(new Bundle {\n",
    "    val ready = Input(Bool())\n",
    "    \n",
    "    val in = Input(UInt(32.W))\n",
    "    \n",
    "    val out = Output(UInt(32.W))\n",
    "  })\n",
    "\n",
    "  io.out := Mux(io.ready, io.in + 255.U, io.in)\n",
    "}\n",
    "\n",
    "verilogPrint(new CombLogicIfWihtMux)\n",
    "visualize(() => new CombLogicIfWihtMux)"
   ]
  },
  {
   "cell_type": "markdown",
   "metadata": {},
   "source": [
    "### Регистры\n",
    "\n",
    "#### Базовая версия"
   ]
  },
  {
   "cell_type": "code",
   "execution_count": null,
   "metadata": {},
   "outputs": [],
   "source": [
    "class Counter extends MultiIOModule {\n",
    "  val io = IO(new Bundle {\n",
    "    val enable = Input(Bool())\n",
    "    val out = Output(UInt(32.W))\n",
    "  })\n",
    "\n",
    "  val nextCount = Wire(UInt(32.W))\n",
    "\n",
    "  val counter = Reg(UInt(32.W))\n",
    "\n",
    "  nextCount := Mux(counter === 100.U, 0.U, counter + 1.U)\n",
    "\n",
    "  io.out := counter\n",
    "\n",
    "  when(io.enable) {\n",
    "    counter := nextCount\n",
    "  }\n",
    "}\n",
    "\n",
    "verilogPrint(new Counter)\n",
    "visualize(() => new Counter)"
   ]
  },
  {
   "cell_type": "markdown",
   "metadata": {},
   "source": [
    "#### `RegInit`, `RegEnable`, `RegNext`\n",
    "\n",
    "Разновидности конструкторов регистров для более удобной записи"
   ]
  },
  {
   "cell_type": "code",
   "execution_count": null,
   "metadata": {},
   "outputs": [],
   "source": [
    "class CounterInit extends MultiIOModule {\n",
    "  val io = IO(new Bundle {\n",
    "    val enable = Input(Bool())\n",
    "    val out = Output(UInt(32.W))\n",
    "  })\n",
    "\n",
    "  val nextCount = Wire(UInt(32.W))\n",
    "\n",
    "  val counter = RegInit(0.U(32.W))\n",
    "\n",
    "  nextCount := Mux(counter === 100.U, 0.U, counter + 1.U)\n",
    "\n",
    "  io.out := counter\n",
    "\n",
    "  when(io.enable) {\n",
    "    counter := nextCount\n",
    "  }\n",
    "}\n",
    "\n",
    "verilogPrint(new CounterInit)\n",
    "visualize(() => new CounterInit)"
   ]
  },
  {
   "cell_type": "code",
   "execution_count": null,
   "metadata": {},
   "outputs": [],
   "source": [
    "class CounterEnable extends MultiIOModule {\n",
    "  val io = IO(new Bundle {\n",
    "    val enable = Input(Bool())\n",
    "    val out = Output(UInt(32.W))\n",
    "  })\n",
    "\n",
    "  val nextCount = Wire(UInt(32.W))\n",
    "\n",
    "  val counter: UInt = RegEnable(\n",
    "    next = nextCount,\n",
    "    init = 0.U(32.W),\n",
    "    enable = io.enable\n",
    "  )\n",
    "\n",
    "  nextCount := Mux(counter === 100.U, 0.U, counter + 1.U)\n",
    "\n",
    "  io.out := counter\n",
    "}\n",
    "\n",
    "verilogPrint(new CounterEnable)\n",
    "visualize(() => new CounterEnable)"
   ]
  },
  {
   "cell_type": "markdown",
   "metadata": {},
   "source": [
    "## Кастинг\n",
    "Или преобразование типов, \n",
    "```scala\n",
    "asBool  : Bool\n",
    "asBools : Seq[Bool]\n",
    "asUInt  : UInt\n",
    "asTypeOf: T\n",
    "```\n",
    "\n",
    "Может иногда являтся источником багов в вашем коде, так что при дебаге стоит обращать внимание на кастинг"
   ]
  },
  {
   "cell_type": "code",
   "execution_count": null,
   "metadata": {},
   "outputs": [],
   "source": [
    "class SomeBundle extends Bundle {\n",
    "  val uint = UInt(4.W)\n",
    "  val bool1 = Bool()\n",
    "  val bool2 = Bool()\n",
    "  val bool3 = Bool()\n",
    "  val bool4 = Bool()\n",
    "}\n",
    "\n",
    "class MultiIO extends RawModule {\n",
    "  val io = IO(new Bundle {\n",
    "    val in_bool = Input(Bool())\n",
    "    val in_uint = Input(UInt(8.W))\n",
    "    val in_vec = Input(Vec(4, UInt(2.W)))\n",
    "    val in_bundle = Input(new SomeBundle)\n",
    "\n",
    "    val out_bool = Output(Bool())\n",
    "    val out_uint = Output(UInt(8.W))\n",
    "    val out_vec = Output(Vec(4, UInt(2.W)))\n",
    "    val out_bundle = Output(new SomeBundle)\n",
    "  })\n",
    "\n",
    "  io.out_bool := io.in_bool\n",
    "  io.out_uint := io.in_vec.asUInt()\n",
    "  io.out_vec := io.in_bundle.asTypeOf(Vec(4, UInt(2.W)))\n",
    "  io.out_bundle := io.in_uint.asTypeOf(new SomeBundle)\n",
    "}\n",
    "\n",
    "verilogPrint(new MultiIO)\n",
    "// visualize(() => new MultiIO)"
   ]
  },
  {
   "cell_type": "markdown",
   "metadata": {},
   "source": [
    "## Интерфейсы и их соединение\n",
    "\n",
    "Как можно догадаться `Bundle` может и должен быть использован для описания интерфейсов и их дальнейшего использования.\n",
    "В этом случае необходимо указывать направление сигналов. Оператор `<>` позволяет соединять интерфейсы, для инверсии направлений сигналов используется метод `Flipped()`"
   ]
  },
  {
   "cell_type": "code",
   "execution_count": null,
   "metadata": {},
   "outputs": [],
   "source": [
    "class ReadyValid extends Bundle {\n",
    "  val ready = Input(Bool())\n",
    "  val valid = Output(Bool())\n",
    "  val bits = Output(UInt(32.W))\n",
    "}\n",
    "\n",
    "class ReadyValidMux extends RawModule {\n",
    "  val io = IO(new Bundle {\n",
    "    val addr = Input(UInt(8.W))\n",
    "\n",
    "    val in = Vec(3, Flipped(new ReadyValid))\n",
    "    val out = new ReadyValid\n",
    "  })\n",
    "\n",
    "  io.in.foreach(x => x.ready := false.B)\n",
    "\n",
    "  io.out <> io.in.do_apply(io.addr.asUInt)\n",
    "}\n",
    "\n",
    "verilogPrint(new ReadyValidMux)\n",
    "// visualize(() => new ReadyValidMux)"
   ]
  },
  {
   "cell_type": "markdown",
   "metadata": {},
   "source": [
    "## Инстантирование модулей"
   ]
  },
  {
   "cell_type": "code",
   "execution_count": null,
   "metadata": {},
   "outputs": [],
   "source": [
    "class Mux2 extends Module {\n",
    "  val io = IO(new Bundle{\n",
    "    val sel = Input(UInt(1.W))\n",
    "    val in0 = Input(UInt(1.W))\n",
    "    val in1 = Input(UInt(1.W))\n",
    "    val out = Output(UInt(1.W))\n",
    "  })\n",
    "  io.out := (io.sel & io.in1) | (~io.sel & io.in0)\n",
    "}\n",
    "\n",
    "class Mux4 extends Module {\n",
    "  val io = IO(new Bundle {\n",
    "    val in0 = Input(UInt(1.W))\n",
    "    val in1 = Input(UInt(1.W))\n",
    "    val in2 = Input(UInt(1.W))\n",
    "    val in3 = Input(UInt(1.W))\n",
    "    val sel = Input(UInt(2.W))\n",
    "    val out = Output(UInt(1.W))\n",
    "  })\n",
    "  val m0 = Module(new Mux2)\n",
    "  m0.io.sel := io.sel(0) \n",
    "  m0.io.in0 := io.in0\n",
    "  m0.io.in1 := io.in1\n",
    "\n",
    "  val m1 = Module(new Mux2)\n",
    "  m1.io.sel := io.sel(0) \n",
    "  m1.io.in0 := io.in2\n",
    "  m1.io.in1 := io.in3\n",
    "\n",
    "  val m3 = Module(new Mux2)\n",
    "  m3.io.sel := io.sel(1) \n",
    "  m3.io.in0 := m0.io.out\n",
    "  m3.io.in1 := m1.io.out\n",
    "\n",
    "  io.out := m3.io.out\n",
    "}\n",
    "\n",
    "// verilogPrint(new Mux4)\n",
    "visualize(() => new Mux4)\n"
   ]
  },
  {
   "cell_type": "markdown",
   "metadata": {},
   "source": [
    "## Мощь - функциональная абстрацкия и глобальная параметризация\n",
    "\n",
    "Т.к. chisel - это все еще scala, мы получаем все ее приемущества и возможности в виде параметризации, наследования и т.д.\n",
    "\n",
    "### Функциональный код"
   ]
  },
  {
   "cell_type": "code",
   "execution_count": null,
   "metadata": {},
   "outputs": [],
   "source": [
    "class GrayCounter extends MultiIOModule {\n",
    "  val io = IO(new Bundle {\n",
    "    val enable = Input(Bool())\n",
    "    val out = Output(UInt(32.W))\n",
    "  })\n",
    "\n",
    "  println(\"Hello from counter!\")\n",
    "\n",
    "  val nextCount = Wire(UInt(32.W))\n",
    "\n",
    "  val counter = RegEnable(\n",
    "    next = nextCount,\n",
    "    init = 0.U(32.W),\n",
    "    enable = io.enable\n",
    "  )\n",
    "\n",
    "  nextCount := counter + 1.U\n",
    "\n",
    "  io.out := utils.toGray(counter)\n",
    "}\n",
    "\n",
    "object utils {\n",
    "  def toGray(in: UInt) = in ^ (in >> 1.U).asUInt\n",
    "}\n",
    "\n",
    "verilogPrint(new GrayCounter)"
   ]
  },
  {
   "cell_type": "code",
   "execution_count": null,
   "metadata": {},
   "outputs": [],
   "source": [
    "object utils {\n",
    "  def counter(max: Int, enable: Bool) = {\n",
    "    val width = util.log2Ceil(max + 1)\n",
    "\n",
    "    val nextCount = Wire(UInt(width.W))\n",
    "\n",
    "    val count = util.RegEnable(\n",
    "        nextCount,\n",
    "        0.U(width.W),\n",
    "        enable\n",
    "    )\n",
    "\n",
    "    nextCount := Mux(count === max.U, 0.U, count + 1.U)\n",
    "\n",
    "    count\n",
    "  }\n",
    "\n",
    "  def toGray(in: UInt) = in ^ (in >> 1.U).asUInt\n",
    "}\n",
    "\n",
    "class CounterDoubleChannel extends MultiIOModule {\n",
    "  val io = IO(new Bundle {\n",
    "    val enable_1 = Input(Bool())\n",
    "    val enable_2 = Input(Bool())\n",
    "\n",
    "    val out_1 = Output(UInt(32.W))\n",
    "    val out_2 = Output(UInt(64.W))\n",
    "  })\n",
    "\n",
    "  val counter1 = utils.counter(255, io.enable_1)\n",
    "  val counter2 = utils.counter(2048, io.enable_2)\n",
    "\n",
    "  io.out_1 := counter1\n",
    "  io.out_2 := counter2\n",
    "}\n",
    "\n",
    "verilogPrint(new CounterDoubleChannel)"
   ]
  },
  {
   "cell_type": "markdown",
   "metadata": {},
   "source": [
    "### Параметризация\n",
    "\n",
    "#### Параметры конструктора модуля"
   ]
  },
  {
   "cell_type": "code",
   "execution_count": null,
   "metadata": {},
   "outputs": [],
   "source": [
    "class ParameterizedCounter(max: Int) extends MultiIOModule {\n",
    "  val io = IO(new Bundle {\n",
    "    val enable = Input(Bool())\n",
    "    val out = Output(UInt(32.W))\n",
    "  })\n",
    "\n",
    "  val nextCount = Wire(UInt(32.W))\n",
    "\n",
    "  val counter = util.RegEnable(\n",
    "    next = nextCount,\n",
    "    init = 0.U(32.W),\n",
    "    enable = io.enable\n",
    "  )\n",
    "\n",
    "  nextCount := Mux(counter === max.U, 0.U, counter + 1.U)\n",
    "\n",
    "  io.out := counter\n",
    "}\n",
    "\n",
    "verilogPrint(new ParameterizedCounter(128))\n"
   ]
  },
  {
   "cell_type": "code",
   "execution_count": null,
   "metadata": {},
   "outputs": [],
   "source": [
    "class MultiChannelCounter(maxValues: Seq[Int]) extends MultiIOModule {\n",
    "  val io = IO(new Bundle {\n",
    "    val enable = Input(Vec(maxValues.size, Bool()))\n",
    "\n",
    "    // Vec(Seq(UInt(4.W), UInt(4.W), UInt(4.W)))\n",
    "    val out = Output(MixedVec(maxValues.map { x => \n",
    "      UInt(log2Ceil(x + 1).W)\n",
    "    }))\n",
    "  })\n",
    "\n",
    "  val counters = maxValues.zip(\n",
    "    io.enable\n",
    "  ).map { case(max, enable) =>\n",
    "    utils.counter(max, enable)\n",
    "  }\n",
    "\n",
    "  counters.zip(\n",
    "    io.out\n",
    "  ).foreach { case(count, out) =>\n",
    "    out := count\n",
    "  }\n",
    "}\n",
    "\n",
    "verilogPrint(new MultiChannelCounter(Seq(16, 32, 64, 128)))\n",
    "\n",
    "object MultiChannelCounter {\n",
    "  def apply(max: Int *) = new MultiChannelCounter(max)\n",
    "}\n",
    "\n",
    "verilogPrint(MultiChannelCounter(16, 32, 64, 128))\n"
   ]
  },
  {
   "cell_type": "markdown",
   "metadata": {
    "scrolled": false
   },
   "source": [
    "#### Параметризация конструктора интерфейса\n"
   ]
  },
  {
   "cell_type": "code",
   "execution_count": null,
   "metadata": {},
   "outputs": [],
   "source": [
    "class ValidIO(val _width: Int) extends Bundle {\n",
    "  val valid = Output(Bool())\n",
    "  val bits = Output(UInt(_width.W))\n",
    "\n",
    "//   override def cloneType: this.type = { (new ValidIO(width)).asInstanceOf[this.type] }\n",
    "}"
   ]
  },
  {
   "cell_type": "markdown",
   "metadata": {},
   "source": [
    "#### Наследование"
   ]
  },
  {
   "cell_type": "code",
   "execution_count": null,
   "metadata": {},
   "outputs": [],
   "source": [
    "class PipeLine(n: Int, width: Int) extends MultiIOModule {\n",
    "  val io = IO(new Bundle {\n",
    "    val in = Flipped(new ValidIO(width))\n",
    "    val out = new ValidIO(width)\n",
    "  })\n",
    "\n",
    "  val stages = (1 to n).map(i => Reg(new ValidIO(width)))\n",
    "\n",
    "  stages.zipWithIndex.foreach { case(stage, index) =>\n",
    "    if(index == 0)\n",
    "      stage := io.in\n",
    "    else\n",
    "      stage := stages(index - 1)\n",
    "  }\n",
    "\n",
    "  io.out := stages.last\n",
    "}\n",
    "\n",
    "visualize(() => new PipeLine(4, 32))\n"
   ]
  },
  {
   "cell_type": "code",
   "execution_count": null,
   "metadata": {
    "scrolled": false
   },
   "outputs": [],
   "source": [
    "class CountedPipeLine(n: Int, width: Int) extends PipeLine(n, width) {\n",
    "  val count = IO(Output(UInt(log2Ceil(n + 1).W)))\n",
    "\n",
    "  val counter = RegInit(0.U(log2Ceil(n + 1).W))\n",
    "\n",
    "  count := counter\n",
    "\n",
    "  counter := counter + io.in.valid - io.out.valid\n",
    "}\n",
    "\n",
    "visualize(() => new CountedPipeLine(4, 32))"
   ]
  },
  {
   "cell_type": "markdown",
   "metadata": {},
   "source": [
    "#### Ремарка\n",
    "\n",
    "Scala - язык со множеством возможностей, поэтому на уровне функциональной абстракции пользователю chisel доступен общирный набор средств и библиотек, вопрос как его применять решает исключительно сам разработчик и ограничен он лишь полетом фантазии.\n",
    "\n",
    "Несколько советов : \n",
    "\n",
    "- Улучшение навыков и понимания языка scala полезно в любом случае, учиться учиться и еще раз учиться\n",
    "- Не усложняйте в параметризации, запасы на все случае жизни - это хорошо но до добра не доведет\n",
    "- Читайте исходники, всегда можно подчерпнуть интересные техники приемы и решения\n",
    "- Практикуйтесь\n",
    "\n",
    "## `util` - библиотека\n",
    "\n",
    "### Функциональные блоки\n",
    "\n",
    "`Reverse(in: UInt)` - разворачивает последовательность бит `UInt`\n",
    "\n",
    "`Cat()` - операция конкатинации, аналог `{}` из verilog\n",
    "\n",
    "`Counter(n: Int)` - счетчик\n",
    "\n",
    "`MuxCase, MuxLookUp` - Более продвинутые аналоги `Mux`\n",
    "\n",
    "`log2Ceil, log2Floor` - логарифмы по основанию 2 с различным типом округления, НЕ hardware элемент\n",
    "\n",
    "`LFSR` - линейный регистр сдвига c обратной связью c конфигурацией Фибоначи, есть версия с конфигурацией Галуа, генерирует псевдослучайные значения заданной размерности \n",
    "\n",
    "### Интерфейсы\n",
    "\n",
    "`ValidIO` - `bits` и `valid`\n",
    "\n",
    "`DecoupledIO` - `bits`, `valid` и `ready`\n",
    "\n",
    "### Модули\n",
    "\n",
    "`Pipe` - pipeline модуль задержки c `ValidIO` интерфейсом\n",
    "\n",
    "`Queue` - FIFO с `DecoupledIO` интерфейсами\n",
    "\n",
    "`Arbiter` - арбитр на DecoupledIO интерфейсах\n",
    "\n",
    "\n",
    "## Analog - inout порт"
   ]
  },
  {
   "cell_type": "code",
   "execution_count": null,
   "metadata": {},
   "outputs": [],
   "source": [
    "class AnalogModule extends RawModule {\n",
    "  val pad = IO(new Bundle {\n",
    "    val a = Analog(1.W)\n",
    "    val b = Analog(1.W)\n",
    "    val c = Analog(1.W)\n",
    "  })\n",
    "\n",
    "  attach(pad.a, pad.b)\n",
    "  attach(pad.a, pad.c)\n",
    "}\n",
    "\n",
    "verilogPrint(new AnalogModule)\n",
    "visualize(() => new AnalogModule)"
   ]
  },
  {
   "cell_type": "markdown",
   "metadata": {},
   "source": [
    "## Асинхронный сброс"
   ]
  },
  {
   "cell_type": "code",
   "execution_count": null,
   "metadata": {},
   "outputs": [],
   "source": [
    "class AsyncResetCounter extends RawModule {\n",
    "  val io = IO(new Bundle {\n",
    "    val clock = Input(Clock())\n",
    "    val reset = Input(AsyncReset())\n",
    "\n",
    "    val count = Output(UInt(32.W))\n",
    "  })\n",
    "\n",
    "  withClockAndReset(io.clock, io.reset) {\n",
    "    val counter = RegInit(0.U(32.W))\n",
    "\n",
    "    counter := counter + 1.U\n",
    "\n",
    "    io.count := counter\n",
    "  }\n",
    "}\n",
    "\n",
    "verilogPrint(new AsyncResetCounter)\n",
    "// visualize(() => new AsyncResetCounter)"
   ]
  },
  {
   "cell_type": "markdown",
   "metadata": {},
   "source": [
    "### Multi clock domain\n"
   ]
  },
  {
   "cell_type": "code",
   "execution_count": null,
   "metadata": {},
   "outputs": [],
   "source": [
    "class MultiClockCounter extends RawModule {\n",
    "  val io = IO(new Bundle {\n",
    "    val clock_one = Input(Clock())\n",
    "    val reset_one = Input(AsyncReset())\n",
    "\n",
    "    val clock_two = Input(Clock())\n",
    "    val reset_two = Input(AsyncReset())\n",
    "\n",
    "    val count_one = Output(UInt(32.W))\n",
    "    val count_two = Output(UInt(32.W))\n",
    "\n",
    "  })\n",
    "\n",
    "  withClockAndReset(io.clock_one, io.reset_one) {\n",
    "    val counter = RegInit(0.U(32.W))\n",
    "\n",
    "    counter := counter + 1.U\n",
    "\n",
    "    io.count_one := counter\n",
    "  }\n",
    "\n",
    "  withClockAndReset(io.clock_two, io.reset_two) {\n",
    "    val counter = RegInit(0.U(32.W))\n",
    "\n",
    "    counter := counter + 1.U\n",
    "\n",
    "    io.count_two := counter\n",
    "  }\n",
    "\n",
    "}\n",
    "\n",
    "verilogPrint(new MultiClockCounter)"
   ]
  },
  {
   "cell_type": "code",
   "execution_count": null,
   "metadata": {},
   "outputs": [],
   "source": [
    "class TopLevel extends RawModule {\n",
    "  val io = IO(new Bundle {\n",
    "    val clk = Input(Clock())\n",
    "    val reset = Input(AsyncReset())\n",
    "\n",
    "    val dbg_clk = Input(Clock())\n",
    "    val dbg_reset = Input(AsyncReset())\n",
    "\n",
    "    val data = new QueueIO(UInt(32.W), 32)\n",
    "    val dbg = new QueueIO(UInt(32.W), 32)\n",
    "\n",
    "  })\n",
    "\n",
    "  withClockAndReset(io.clk, io.reset) {\n",
    "    val fifo = Module(new Queue(UInt(32.W), 32))\n",
    "    \n",
    "    fifo.io <> io.data\n",
    "  }\n",
    "\n",
    "  withClockAndReset(io.dbg_clk, io.dbg_reset) {\n",
    "    val dbg_fifo = Module(new Queue(UInt(32.W), 32))\n",
    "    dbg_fifo.io <> io.dbg\n",
    "  }\n",
    "\n",
    "}\n",
    "\n",
    "visualize(() => new TopLevel)"
   ]
  },
  {
   "cell_type": "markdown",
   "metadata": {},
   "source": [
    "## BlackBox\n",
    "\n",
    "Позволяет использовать модули непосредственно из `verilog`"
   ]
  },
  {
   "cell_type": "code",
   "execution_count": null,
   "metadata": {},
   "outputs": [],
   "source": [
    "class ResetSync extends BlackBox {\n",
    "  val io = IO(new Bundle {\n",
    "    val clk_i = Input(Clock())\n",
    "    val rst_n_i = Input(Bool())\n",
    "    val scan_mode_i = Input(Bool())\n",
    "    val rst_n_o = Output(Bool())\n",
    "  })\n",
    "}\n",
    "\n",
    "class ResetSyncWrap extends RawModule {\n",
    "  val io = IO(new Bundle {\n",
    "    val clk_i = Input(Clock())\n",
    "    val rst_n_i = Input(Bool())\n",
    "    val scan_mode_i = Input(Bool())\n",
    "    val rst_n_o = Output(Bool())\n",
    "  })\n",
    "\n",
    "  val sync = Module(new ResetSync)\n",
    "\n",
    "  io.clk_i <> sync.io.clk_i\n",
    "  io.rst_n_i <> sync.io.rst_n_i\n",
    "  io.scan_mode_i <> sync.io.scan_mode_i\n",
    "  io.rst_n_o <> sync.io.rst_n_o\n",
    "}\n",
    "\n",
    "verilogPrint(new ResetSyncWrap)"
   ]
  },
  {
   "cell_type": "code",
   "execution_count": null,
   "metadata": {},
   "outputs": [],
   "source": [
    "class ResetSync extends BlackBox(Map(\n",
    "  \"PARAM_1\" -> 32,\n",
    "  \"PARAM_2\" -> \"DEFAULT\",\n",
    "  \"PARAM_3\" -> RawParam(\"8'hFF\")\n",
    ")) {\n",
    "  val io = IO(new Bundle {\n",
    "    val clk_i = Input(Clock())\n",
    "    val rst_n_i = Input(Bool())\n",
    "    val scan_mode_i = Input(Bool())\n",
    "    val rst_n_o = Output(Bool())\n",
    "  })\n",
    "}\n",
    "\n",
    "class ResetSyncWrap extends RawModule {\n",
    "  val io = IO(new Bundle {\n",
    "    val clk_i = Input(Clock())\n",
    "    val rst_n_i = Input(Bool())\n",
    "    val scan_mode_i = Input(Bool())\n",
    "    val rst_n_o = Output(Bool())\n",
    "  })\n",
    "\n",
    "  val sync = Module(new ResetSync)\n",
    "\n",
    "  io.clk_i <> sync.io.clk_i\n",
    "  io.rst_n_i <> sync.io.rst_n_i\n",
    "  io.scan_mode_i <> sync.io.scan_mode_i\n",
    "  io.rst_n_o <> sync.io.rst_n_o\n",
    "}\n",
    "\n",
    "verilogPrint(new ResetSyncWrap)"
   ]
  },
  {
   "cell_type": "code",
   "execution_count": null,
   "metadata": {},
   "outputs": [],
   "source": [
    "class mux_4to1 extends BlackBox with HasBlackBoxResource {\n",
    "  val io = IO(new Bundle {\n",
    "    val a = Input(Bool())\n",
    "    val b = Input(Bool())\n",
    "    val c = Input(Bool())\n",
    "    val d = Input(Bool())\n",
    "    val out = Output(Bool())\n",
    "  })\n",
    "\n",
    "  setResource(\"resources/mux_4to1.v\")\n",
    "}"
   ]
  },
  {
   "cell_type": "code",
   "execution_count": null,
   "metadata": {},
   "outputs": [],
   "source": [
    "class reset_sync extends BlackBox with HasBlackBoxInline {\n",
    "  val io = IO(new Bundle {\n",
    "    val clk_i = Input(Clock())\n",
    "    val rst_n_i = Input(Bool())\n",
    "    val scan_mode_i = Input(Bool())\n",
    "    val rst_n_o = Output(Bool())\n",
    "  })\n",
    "\n",
    "  setInline(\"reset_sync.v\",\n",
    "  s\"\"\"\n",
    "    |module reset_sync #(\n",
    "    |  parameter SYNC_STAGE    = 3,\n",
    "    |  parameter [0:0] ACTIVE_LEVEL  = 0\n",
    "    |)(\n",
    "    |  input  wire clk_i,\n",
    "    |  input  wire rst_n_i,\n",
    "    |  input  wire scan_mode_i,\n",
    "    |  output wire rst_n_o\n",
    "    |);\n",
    "    | // ... some verilog code here\n",
    "    |endmodule\n",
    "  \"\"\".stripMargin)\n",
    "}\n",
    "\n",
    "class ResetSyncWrap extends RawModule {\n",
    "  val io = IO(new Bundle {\n",
    "    val clk_i = Input(Clock())\n",
    "    val rst_n_i = Input(Bool())\n",
    "    val scan_mode_i = Input(Bool())\n",
    "    val rst_n_o = Output(Bool())\n",
    "  })\n",
    "\n",
    "  val sync = Module(new reset_sync)\n",
    "\n",
    "  io.clk_i <> sync.io.clk_i\n",
    "  io.rst_n_i <> sync.io.rst_n_i\n",
    "  io.scan_mode_i <> sync.io.scan_mode_i\n",
    "  io.rst_n_o <> sync.io.rst_n_o\n",
    "}\n",
    "\n",
    "verilogPrint(new ResetSyncWrap)"
   ]
  },
  {
   "cell_type": "markdown",
   "metadata": {},
   "source": [
    "## Chisel Testers\n",
    "\n",
    "В chisel присутсвует встроеный фрэймворк для симуляции поведения rtl, поддерживаются два backend симулятора - treadle и verilator.\n",
    "\n",
    "Набор функциональности относительно простой\n",
    "\n",
    "`poke` - устанавливает значение сигнала\n",
    "`peek` - возвращает значение сигнала\n",
    "`step(n: Int)` - временной шаг симуляции, где `n` - количество тактов сигнала `clock`\n",
    "\n",
    "В новой верси библиотеки `chiseltest` функционал значительно расширен, добавлена поддержка multi clock, работа с decoupled интерфейсами из коробки, также асинхронная симуляция на основе `threads` в scala.\n"
   ]
  },
  {
   "cell_type": "code",
   "execution_count": null,
   "metadata": {},
   "outputs": [],
   "source": [
    "import treadle._\n",
    "\n",
    "import chisel3.tester._\n",
    "import chisel3.tester.internal._\n",
    "import chisel3.tester.experimental.TestOptionBuilder._\n",
    "\n",
    "import chisel3.tester.RawTester.test\n",
    "\n"
   ]
  },
  {
   "cell_type": "code",
   "execution_count": null,
   "metadata": {},
   "outputs": [],
   "source": [
    "class PassthroughGenerator(width: Int) extends Module { \n",
    "  val io = IO(new Bundle {\n",
    "    val in = Input(UInt(width.W))\n",
    "    val out = Output(UInt(width.W))\n",
    "  })\n",
    "  io.out := io.in\n",
    "}\n",
    "\n",
    "val annotations = Seq(\n",
    "//   VerilatorBackendAnnotation,\n",
    "//   WriteVcdAnnotation,\n",
    "  VerboseAnnotation,\n",
    "  SymbolsToWatchAnnotation(Seq(\"io_out\"))\n",
    ")\n",
    "\n",
    "test(new PassthroughGenerator(16), annotations) { c =>\n",
    "    c.io.in.poke(0.U)\n",
    "    c.io.out.expect(0.U)\n",
    "    c.io.in.poke(1.U)\n",
    "    c.io.out.expect(1.U)\n",
    "    c.io.in.poke(2.U)\n",
    "    c.io.out.expect(2.U)\n",
    "}"
   ]
  },
  {
   "cell_type": "code",
   "execution_count": null,
   "metadata": {},
   "outputs": [],
   "source": [
    "case class QueueModule[T <: Data](ioType: T, entries: Int) extends MultiIOModule {\n",
    "  val in = IO(Flipped(Decoupled(ioType)))\n",
    "  val out = IO(Decoupled(ioType))\n",
    "  out <> Queue(in, entries)\n",
    "}\n",
    "\n",
    "val annotations = Seq(\n",
    "//   VerilatorBackendAnnotation,\n",
    "//   WriteVcdAnnotation,\n",
    "//   VerboseAnnotation,\n",
    "//   SymbolsToWatchAnnotation(Seq(\"out_valid\"))\n",
    ")\n",
    "\n",
    "test(QueueModule(UInt(9.W), entries = 200), annotations) { c =>\n",
    "    c.in.initSource()\n",
    "    c.in.setSourceClock(c.clock)\n",
    "    c.out.initSink()\n",
    "    c.out.setSinkClock(c.clock)\n",
    "    \n",
    "    val testVector = Seq.tabulate(200){ i => i.U }\n",
    "\n",
    "    testVector.zip(testVector).foreach { case (in, out) =>\n",
    "      c.in.enqueueNow(in)\n",
    "      c.out.expectDequeueNow(out)\n",
    "    }\n",
    "}"
   ]
  },
  {
   "cell_type": "markdown",
   "metadata": {},
   "source": [
    "## Материалы\n",
    "\n",
    "* https://github.com/freechipsproject/chisel3/wiki\n",
    "* https://github.com/freechipsproject/chisel-bootcamp\n",
    "* https://www.youtube.com/watch?v=2-ZiXNd9wbc\n",
    "* https://www.youtube.com/watch?v=OhMuPQcyynY\n",
    "* https://habr.com/ru/post/419413/\n",
    "* API и Исходный код!"
   ]
  }
 ],
 "metadata": {
  "kernelspec": {
   "display_name": "Scala",
   "language": "scala",
   "name": "scala"
  },
  "language_info": {
   "codemirror_mode": "text/x-scala",
   "file_extension": ".scala",
   "mimetype": "text/x-scala",
   "name": "scala",
   "nbconvert_exporter": "script",
   "version": "2.12.10"
  }
 },
 "nbformat": 4,
 "nbformat_minor": 2
}
